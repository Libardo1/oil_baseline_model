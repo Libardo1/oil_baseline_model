{
 "cells": [
  {
   "cell_type": "code",
   "execution_count": 2,
   "metadata": {
    "collapsed": false
   },
   "outputs": [
    {
     "ename": "SyntaxError",
     "evalue": "invalid syntax (<ipython-input-2-a87b5ac24f8f>, line 25)",
     "output_type": "error",
     "traceback": [
      "\u001b[0;36m  File \u001b[0;32m\"<ipython-input-2-a87b5ac24f8f>\"\u001b[0;36m, line \u001b[0;32m25\u001b[0m\n\u001b[0;31m    RE_V =[PL_CE_PX_RE PL_X_RE   PL_SX_RE  PL_CE_REVX_RE PL_PN_RE PL_DY_RE PL_Y_RE PL_CT_RE  PL_CAY_RE   ]\u001b[0m\n\u001b[0m                             ^\u001b[0m\n\u001b[0;31mSyntaxError\u001b[0m\u001b[0;31m:\u001b[0m invalid syntax\n"
     ]
    }
   ],
   "source": [
    "import numpy as np\n",
    "import matplotlib.pyplot as plt\n",
    "\n",
    "# Load RE results \n",
    "\n",
    "place = 'outData/ergodic/RE/'\n",
    "\n",
    "hh_on = np.loadtxt(place+'hh_on.txt')\n",
    "PL_PX_RE = np.loadtxt(place+'MPX.txt')\n",
    "PL_CE_PX_RE = np.loadtxt(place+'MCE_PX.txt')\n",
    "PL_X_RE        = np.loadtxt(place+'MX.txt')\n",
    "PL_SX_RE       = np.loadtxt(place+'MSX.txt')\n",
    "\n",
    "if(hh_on==1):\n",
    "    PL_D_RE    = np.loadtxt(place+'MD.txt')\n",
    "    PL_CT_RE   = np.loadtxt(place+'MCT.txt')\n",
    "    PL_PN_RE   = np.loadtxt(place+'MPN.txt')\n",
    "    PL_Y_RE    = np.loadtxt(place+'MY.txt')\n",
    "    PL_CA_RE   = np.loadtxt(place+'MCA.txt')\n",
    "    PL_DY_RE   = np.loadtxt(place+'MDY.txt')\n",
    "    PL_CAY_RE  = np.loadtxt(place+'MCAY.txt')\n",
    "    PL_REVX_RE = np.loadtxt(place+'MREVX.txt')\n",
    "    PL_CE_REVX_RE = np.loadtxt(place+'MCE_REVX.txt')\n",
    "\n",
    "    RE_V =np.concatenate((PL_CE_PX_RE, PL_X_RE, PL_SX_RE, PL_CE_REVX_RE, PL_PN_RE, PL_DY_RE, PL_Y_RE, PL_CT_RE, PL_CAY_RE), axis=0)\n",
    "    RE_V_ADD = np.concatenate((PL_D_RE, PL_CT_RE, PL_CA_RE), axis=0)\n",
    "else:\n",
    "    RE_V = np.concatenate((PL_CE_PX_RE, PL_X_RE, PL_SX_RE), axis=0)"
   ]
  },
  {
   "cell_type": "code",
   "execution_count": 3,
   "metadata": {
    "collapsed": false
   },
   "outputs": [
    {
     "ename": "FileNotFoundError",
     "evalue": "[Errno 2] No such file or directory: 'outData/ergodic/BL/hh_on.txt'",
     "output_type": "error",
     "traceback": [
      "\u001b[0;31m---------------------------------------------------------------------------\u001b[0m",
      "\u001b[0;31mFileNotFoundError\u001b[0m                         Traceback (most recent call last)",
      "\u001b[0;32m<ipython-input-3-d5dd114ceef2>\u001b[0m in \u001b[0;36m<module>\u001b[0;34m()\u001b[0m\n\u001b[1;32m      3\u001b[0m \u001b[0mplace\u001b[0m \u001b[0;34m=\u001b[0m \u001b[0;34m'outData/ergodic/BL/'\u001b[0m\u001b[0;34m\u001b[0m\u001b[0m\n\u001b[1;32m      4\u001b[0m \u001b[0;34m\u001b[0m\u001b[0m\n\u001b[0;32m----> 5\u001b[0;31m \u001b[0mhh_on\u001b[0m \u001b[0;34m=\u001b[0m \u001b[0mnp\u001b[0m\u001b[0;34m.\u001b[0m\u001b[0mloadtxt\u001b[0m\u001b[0;34m(\u001b[0m\u001b[0mplace\u001b[0m\u001b[0;34m+\u001b[0m\u001b[0;34m'hh_on.txt'\u001b[0m\u001b[0;34m)\u001b[0m\u001b[0;34m\u001b[0m\u001b[0m\n\u001b[0m\u001b[1;32m      6\u001b[0m \u001b[0;34m\u001b[0m\u001b[0m\n\u001b[1;32m      7\u001b[0m \u001b[0mPL_CE_PX_BL\u001b[0m \u001b[0;34m=\u001b[0m \u001b[0mnp\u001b[0m\u001b[0;34m.\u001b[0m\u001b[0mloadtxt\u001b[0m\u001b[0;34m(\u001b[0m\u001b[0mplace\u001b[0m\u001b[0;34m+\u001b[0m\u001b[0;34m'MCE_PX.txt'\u001b[0m\u001b[0;34m)\u001b[0m\u001b[0;34m\u001b[0m\u001b[0m\n",
      "\u001b[0;32m//anaconda/lib/python3.5/site-packages/numpy/lib/npyio.py\u001b[0m in \u001b[0;36mloadtxt\u001b[0;34m(fname, dtype, comments, delimiter, converters, skiprows, usecols, unpack, ndmin)\u001b[0m\n\u001b[1;32m    803\u001b[0m                 \u001b[0mfh\u001b[0m \u001b[0;34m=\u001b[0m \u001b[0miter\u001b[0m\u001b[0;34m(\u001b[0m\u001b[0mopen\u001b[0m\u001b[0;34m(\u001b[0m\u001b[0mfname\u001b[0m\u001b[0;34m,\u001b[0m \u001b[0;34m'U'\u001b[0m\u001b[0;34m)\u001b[0m\u001b[0;34m)\u001b[0m\u001b[0;34m\u001b[0m\u001b[0m\n\u001b[1;32m    804\u001b[0m             \u001b[0;32melse\u001b[0m\u001b[0;34m:\u001b[0m\u001b[0;34m\u001b[0m\u001b[0m\n\u001b[0;32m--> 805\u001b[0;31m                 \u001b[0mfh\u001b[0m \u001b[0;34m=\u001b[0m \u001b[0miter\u001b[0m\u001b[0;34m(\u001b[0m\u001b[0mopen\u001b[0m\u001b[0;34m(\u001b[0m\u001b[0mfname\u001b[0m\u001b[0;34m)\u001b[0m\u001b[0;34m)\u001b[0m\u001b[0;34m\u001b[0m\u001b[0m\n\u001b[0m\u001b[1;32m    806\u001b[0m         \u001b[0;32melse\u001b[0m\u001b[0;34m:\u001b[0m\u001b[0;34m\u001b[0m\u001b[0m\n\u001b[1;32m    807\u001b[0m             \u001b[0mfh\u001b[0m \u001b[0;34m=\u001b[0m \u001b[0miter\u001b[0m\u001b[0;34m(\u001b[0m\u001b[0mfname\u001b[0m\u001b[0;34m)\u001b[0m\u001b[0;34m\u001b[0m\u001b[0m\n",
      "\u001b[0;31mFileNotFoundError\u001b[0m: [Errno 2] No such file or directory: 'outData/ergodic/BL/hh_on.txt'"
     ]
    }
   ],
   "source": [
    "# Load (Compare) BL results \n",
    "\n",
    "place = 'outData/ergodic/BL/'\n",
    "\n",
    "hh_on = np.loadtxt(place+'hh_on.txt')\n",
    "\n",
    "PL_CE_PX_BL = np.loadtxt(place+'MCE_PX.txt')\n",
    "PL_X_BL        = np.loadtxt(place+'MX.txt')\n",
    "#PL_PX_BL = np.loadtxt(place+'MPX.txt')\n",
    "PL_SX_BL       = np.loadtxt(place+'MSX.txt')\n",
    "\n",
    "if(hh_on==1):\n",
    "    PL_D_BL    = np.loadtxt(place+'MD.txt')\n",
    "    PL_CT_BL   = np.loadtxt(place+'MCT.txt')\n",
    "    PL_PN_BL   = np.loadtxt(place+'MPN.txt')\n",
    "    PL_Y_BL    = np.loadtxt(place+'MY.txt')\n",
    "    PL_CA_BL   = np.loadtxt(place+'MCA.txt')\n",
    "    PL_DY_BL   = np.loadtxt(place+'MDY.txt')\n",
    "    PL_CAY_BL  = np.loadtxt(place+'MCAY.txt')\n",
    "    PL_REVX_BL = np.loadtxt(place+'MREVX.txt')\n",
    "    PL_CE_REVX_BL = np.loadtxt(place+'MCE_REVX.txt')\n",
    "\n",
    "    BL_V = np.concatenate((PL_CE_PX_BL, PL_X_BL, PL_SX_BL, PL_CE_REVX_BL, PL_PN_BL, PL_DY_BL, PL_Y_BL, PL_CT_BL, PL_CAY_BL), axis=0)\n",
    "    BL_V_ADD = np.concatenate((PL_D_BL, PL_CT_BL, PL_CA_BL), axis=0)\n",
    "else:\n",
    "    BL_V = np.concatenate((PL_CE_PX_BL, PL_X_BL, PL_SX_BL), axis=0)\n",
    "\n",
    "A_ToL     = BL_V\n",
    "A_ToL_ADD = BL_V_ADD"
   ]
  },
  {
   "cell_type": "code",
   "execution_count": null,
   "metadata": {
    "collapsed": true
   },
   "outputs": [],
   "source": [
    "# Plotting Figures \n",
    "[r,cc] = RE_V.shape\n",
    "\n",
    "if(hh_on==1):\n",
    "    \n",
    "    fig, ax = plt.subplots(3,3)\n",
    "    \n",
    "    for i in range(1,cc):\n",
    "        ax[i] = plot(RE_V[:,i], color='r')\n",
    "        ax[i] = plot(A_ToL[:,i], color = 'b')\n",
    "        # ax[i] = plot(SS_V[i], color = 'b')\n",
    "        ax[i].set_title('i')\n"
   ]
  }
 ],
 "metadata": {
  "anaconda-cloud": {},
  "kernelspec": {
   "display_name": "Python [Root]",
   "language": "python",
   "name": "Python [Root]"
  },
  "language_info": {
   "codemirror_mode": {
    "name": "ipython",
    "version": 3
   },
   "file_extension": ".py",
   "mimetype": "text/x-python",
   "name": "python",
   "nbconvert_exporter": "python",
   "pygments_lexer": "ipython3",
   "version": "3.5.2"
  }
 },
 "nbformat": 4,
 "nbformat_minor": 0
}
